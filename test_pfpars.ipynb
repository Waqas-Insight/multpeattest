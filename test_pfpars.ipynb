{
 "cells": [
  {
   "cell_type": "markdown",
   "metadata": {},
   "source": [
    "PyPDF2"
   ]
  },
  {
   "cell_type": "code",
   "execution_count": 1,
   "metadata": {},
   "outputs": [
    {
     "name": "stderr",
     "output_type": "stream",
     "text": [
      "[nltk_data] Downloading package punkt_tab to\n",
      "[nltk_data]     C:\\Users\\allie\\AppData\\Roaming\\nltk_data...\n",
      "[nltk_data]   Unzipping tokenizers\\punkt_tab.zip.\n",
      "[nltk_data] Downloading package punkt_tab to\n",
      "[nltk_data]     C:\\Users\\allie\\AppData\\Roaming\\nltk_data...\n",
      "[nltk_data]   Package punkt_tab is already up-to-date!\n"
     ]
    }
   ],
   "source": [
    "from PyPDF2 import PdfReader\n",
    "import nltk\n",
    "nltk.download('punkt_tab')\n",
    "from inctcls import get_clean_eng_sents\n",
    "import pymupdf\n",
    "from pdfminer.high_level import extract_text\n",
    "from langchain_community.document_loaders import PyPDFLoader"
   ]
  },
  {
   "cell_type": "code",
   "execution_count": 2,
   "metadata": {},
   "outputs": [],
   "source": [
    "def txt_to_dct(pdfReader):\n",
    "    '''\n",
    "    Input: \n",
    "        pdfReader (PyPDF2 object): Reader in use in loop\n",
    "    Returns:\n",
    "        doc_dict (dct): dictionary of single pdf with text\n",
    "    '''\n",
    "    doc_dict = {}\n",
    "    doc_dict[\"text\"]=\"\"\n",
    "    for page in range(len(pdfReader.pages)):\n",
    "        page_text = pdfReader.pages[page].extract_text()  # extracting pdf text\n",
    "        #page_text = text_cleaning(page_text)  # clean pdf text\n",
    "        doc_dict[\"text\"] += page_text  # concatenate pages' text\n",
    "    return doc_dict\n",
    "\n",
    "def get_pdf_text(filename):\n",
    "    '''\n",
    "    Input:\n",
    "        filename (str): path directory or zip folder of pdfs\n",
    "    Output:\n",
    "        error messages\n",
    "    Returns:\n",
    "        pdf_dict (dct): dictionary of pdfs text\n",
    "    '''\n",
    "    try:\n",
    "        pdfReader = PdfReader(filename)  # read file\n",
    "        # doc_dict holds the attributes of each pdf file\n",
    "        doc_dict = txt_to_dct(pdfReader)\n",
    "        return doc_dict\n",
    "    except Exception as e:  # In case the file is corrupted\n",
    "        print(f\"Could not read {filename} due to {e}\")\n",
    "        return None"
   ]
  },
  {
   "cell_type": "code",
   "execution_count": 3,
   "metadata": {},
   "outputs": [],
   "source": [
    "EN_TOKENIZER = nltk.data.load(\"tokenizers/punkt/english.pickle\")\n",
    "\n",
    "def pdf_to_sents(pdf_addr, lang='en'):\n",
    "    if lang=='en':\n",
    "        tok = EN_TOKENIZER\n",
    "    raw = get_pdf_text(pdf_addr)\n",
    "    sents = get_clean_eng_sents(raw, tok)\n",
    "    return sents"
   ]
  },
  {
   "cell_type": "code",
   "execution_count": 4,
   "metadata": {},
   "outputs": [],
   "source": [
    "import random\n",
    "pypdf2_sents = pdf_to_sents('uploads/UKEF_Climate_Change_Strategy_2021.pdf')"
   ]
  },
  {
   "cell_type": "code",
   "execution_count": 5,
   "metadata": {},
   "outputs": [
    {
     "data": {
      "text/plain": [
       "['Implementing this strategy will enable us to improve appropriately and proportionately how we do this, taking account of both climate change -related risks and opportunitiesDecision Making20We will continue to take account of climate change in our decision -making relating to the support we provide to exportersEnablersChange ManagementWe will engage our staff in the implementation of this strategy, so that they are ready to implement the changes it will bring to our organisation and areempowered to adapt accordinglyDelivering our Climate Change Strategy will require the whole department\\'s buy -in and a \"can -do\" culture throughoutImplementing the strategy will require delivering change and embedding new ways of working across the organisationWe will take further steps to embed climate change in our governance, decision making and learning and development of peopleDuring this strategic period, we will:•Implement an internal communications strategy to increase colleagues’ awareness of climate change issues and how we and the wider government is responding to them;•Work with colleagues across the department to embed a culture of climate change awareness in our staff, so they take account of climate change in all that we do;•Establish a Climate Change Forum, which will provide a space for our colleagues to hear from climate change experts, and learn about the climate -related work going on in all parts of the organisation;•Build underwriting capability and capacity in the renewables and transition sector, including clean growth Export Finance Manager roles 21EnablersDuring this strategic period, we will :•Develop a climate change learning and development plan, to ensure all colleagues have the knowledge and skills they need to integrate consideration of climate change in their roles;•Continue to encourage our colleagues to further develop their knowledge and understanding of climate change issues through ongoing training suitable for different levels of seniority;•Repeat annual staff engagement on climate change, to track colleagues\\' views on the topic and the related learning and development opportunities on offer to themWe are committed to providing climate change -related learning and development opportunities for our staff.',\n",
       " 'This new Climate Change Strategy lays out our ambitious plans to support UK exporters and suppliers through the global transition to net zero and lead the way to a more sustainable future”Louis TaylorChief Executive OfficerAnne -Marie Trevelyan MPSecretary of State for International TradeThis year, the UK will host the UN Climate Change Conference (COP26) summit in Glasgow from 1-12 November.',\n",
       " 'We will need to develop over time our approach to accessing and assessing this data15•Appropriately and proportionately take account of climate -related risk across our credit risk assessments for all our products to ensure we are responsibly managing public money.',\n",
       " 'Our reporting covers the four pillars of the TCFD recommendations:1Governance2Strategy3Risk Management4Metrics and Targets17Box 3: TCFDDuring this strategic period, we will:Strategic Pillar 5International climate leadershipWe will encourage our peers to follow our lead in setting stretching climate ambitions, raising the bar for export finance inter nationally.',\n",
       " 'Trade and Climate are closely interlinked, which is why we are proud that our award -winning export credit agency, UK Export Finance (UKEF) is launching its Climate Change Strategy to stimulate green exports.']"
      ]
     },
     "execution_count": 5,
     "metadata": {},
     "output_type": "execute_result"
    }
   ],
   "source": [
    "random.seed(10)\n",
    "random.sample(pypdf2_sents, 5)"
   ]
  },
  {
   "cell_type": "code",
   "execution_count": 6,
   "metadata": {},
   "outputs": [
    {
     "name": "stdout",
     "output_type": "stream",
     "text": [
      "This new Climate Change Strategy lays out our ambitious plans to support UK exporters and suppliers through the global transition to net zero and lead the way to a more sustainable future”Louis TaylorChief Executive OfficerAnne -Marie Trevelyan MPSecretary of State for International TradeThis year, the UK will host the UN Climate Change Conference (COP26) summit in Glasgow from 1-12 November.\n",
      "Implementing this strategy will enable us to improve appropriately and proportionately how we do this, taking account of both climate change -related risks and opportunitiesDecision Making20We will continue to take account of climate change in our decision -making relating to the support we provide to exportersEnablersChange ManagementWe will engage our staff in the implementation of this strategy, so that they are ready to implement the changes it will bring to our organisation and areempowered to adapt accordinglyDelivering our Climate Change Strategy will require the whole department's buy -in and a \"can -do\" culture throughoutImplementing the strategy will require delivering change and embedding new ways of working across the organisationWe will take further steps to embed climate change in our governance, decision making and learning and development of peopleDuring this strategic period, we will:•Implement an internal communications strategy to increase colleagues’ awareness of climate change issues and how we and the wider government is responding to them;•Work with colleagues across the department to embed a culture of climate change awareness in our staff, so they take account of climate change in all that we do;•Establish a Climate Change Forum, which will provide a space for our colleagues to hear from climate change experts, and learn about the climate -related work going on in all parts of the organisation;•Build underwriting capability and capacity in the renewables and transition sector, including clean growth Export Finance Manager roles 21EnablersDuring this strategic period, we will :•Develop a climate change learning and development plan, to ensure all colleagues have the knowledge and skills they need to integrate consideration of climate change in their roles;•Continue to encourage our colleagues to further develop their knowledge and understanding of climate change issues through ongoing training suitable for different levels of seniority;•Repeat annual staff engagement on climate change, to track colleagues' views on the topic and the related learning and development opportunities on offer to themWe are committed to providing climate change -related learning and development opportunities for our staff.\n"
     ]
    }
   ],
   "source": [
    "for sent in pypdf2_sents:\n",
    "    if \"Implementing this strategy\" in sent:\n",
    "        print(sent)\n",
    "    if \"This new Climate Change Strategy lays out our ambitious\" in sent:\n",
    "        print(sent)"
   ]
  },
  {
   "cell_type": "markdown",
   "metadata": {},
   "source": [
    "PyMuPDF"
   ]
  },
  {
   "cell_type": "code",
   "execution_count": 7,
   "metadata": {},
   "outputs": [],
   "source": [
    "doc = pymupdf.open('uploads/UKEF_Climate_Change_Strategy_2021.pdf')\n",
    "whole = \"\"\n",
    "for page in doc:\n",
    "    text = page.get_text()\n",
    "    whole += text+\" \"\n",
    "pymu_sents = get_clean_eng_sents({'text':whole}, EN_TOKENIZER)"
   ]
  },
  {
   "cell_type": "code",
   "execution_count": 8,
   "metadata": {},
   "outputs": [
    {
     "name": "stdout",
     "output_type": "stream",
     "text": [
      "This new Climate Change Strategy lays out our ambitious plans to support UK exporters and suppliers through the global transition to net zero and lead the way to a more sustainable future”Louis TaylorChief Executive OfficerAnne-Marie Trevelyan MPSecretary of State for International Trade This year, the UK will host the UN Climate Change Conference (COP26) summit in Glasgow from 1-12 November.\n",
      "Implementing this strategy will enable us to improve appropriately and proportionately how we do this, taking account of both climate change-related risks and opportunitiesDecision Making20We will continue to take account of climate change in our decision-making relating to the support we provide to exporters.\n"
     ]
    }
   ],
   "source": [
    "for sent in pymu_sents:\n",
    "    if \"Implementing this strategy\" in sent:\n",
    "        print(sent)\n",
    "    if \"This new Climate Change Strategy lays out our ambitious\" in sent:\n",
    "        print(sent)"
   ]
  },
  {
   "cell_type": "markdown",
   "metadata": {},
   "source": [
    "pdfminer"
   ]
  },
  {
   "cell_type": "code",
   "execution_count": 9,
   "metadata": {},
   "outputs": [],
   "source": [
    "whole2 = extract_text('uploads/UKEF_Climate_Change_Strategy_2021.pdf')\n",
    "pdfmin_sents = get_clean_eng_sents({'text':whole2}, EN_TOKENIZER)"
   ]
  },
  {
   "cell_type": "code",
   "execution_count": 10,
   "metadata": {},
   "outputs": [
    {
     "name": "stdout",
     "output_type": "stream",
     "text": [
      "This new Climate Change Strategy lays out our ambitious plans to support UK exporters and suppliers through the global transition to net zero and lead the way to a more sustainable future”Louis TaylorChief Executive Officer2Executive SummaryThis year, the UK will host the UN Climate Change Conference (COP26) summit in Glasgow from 1-12 November.\n",
      "Implementing this strategy will enable us to improve appropriately and proportionately how we do this, taking account of both climate change-related risks and opportunitiesDuring this strategic period, we will:• Continue to develop our approach to taking account of climate change when making decisions, including in relation to credit risk and to the provision of our support;• Continue to develop our evidence base; we will endeavour to ensure we can access the right data and information to inform decisionsDecision MakingWe will continue to take account of climate change in our decision-making relating to the support we provide to exporters20EnablersChange ManagementWe will engage our staff in the implementation of this strategy, so that they are ready to implement the changes it will bring to our organisation and are empowered to adapt accordinglyDelivering our Climate Change Strategy will require the whole department's buy-in and a \"can-do\" culture throughoutImplementing the strategy will require delivering change and embedding new ways of working across the organisationWe will take further steps to embed climate change in our governance, decision making and learning and development of peopleDuring this strategic period, we will:•Implement an internal communications strategy to increase colleagues’ awareness of climate change issues and how we and the wider government is responding to them;• Work with colleagues across the department to embed a culture of climate change awareness in our staff, so they take account of climate change in all that we do;• Establish a Climate Change Forum, which will provide a space for our colleagues to hear from climate change experts, and learn about the climate-related work going on in all parts of the organisation;• Build underwriting capability and capacity in the renewables and transition sector, including clean growth Export Finance Manager roles 21EnablersWe are committed to providing climate change-related learning and development opportunities for our staff.\n"
     ]
    }
   ],
   "source": [
    "for sent in pdfmin_sents:\n",
    "    if \"Implementing this strategy\" in sent:\n",
    "        print(sent)\n",
    "    if \"This new Climate Change Strategy lays out our ambitious\" in sent:\n",
    "        print(sent)"
   ]
  },
  {
   "cell_type": "markdown",
   "metadata": {},
   "source": [
    "langchain"
   ]
  },
  {
   "cell_type": "code",
   "execution_count": 11,
   "metadata": {},
   "outputs": [],
   "source": [
    "loader = PyPDFLoader('uploads/UKEF_Climate_Change_Strategy_2021.pdf')\n",
    "pages = []\n",
    "async for page in loader.alazy_load():\n",
    "    pages.append(page)\n",
    "langch_whole = \" \".join([str(page) for page in pages])"
   ]
  },
  {
   "cell_type": "code",
   "execution_count": 12,
   "metadata": {},
   "outputs": [
    {
     "name": "stdout",
     "output_type": "stream",
     "text": [
      "This new Climate Change Strategy lays out our ambitious plans to support UK exporters and suppliers through the global transition to net zero and lead the way to a more sustainable future”Louis TaylorChief Executive OfficerAnne-Marie Trevelyan MPSecretary of State for International Trade' metadata={'producer': 'Microsoft® PowerPoint® for Microsoft 365', 'creator': 'Microsoft® PowerPoint® for Microsoft 365', 'creationdate': '2021-09-17T15:16:16+01:00', 'author': 'James Bailey', 'moddate': '2021-09-20T17:15:51+01:00', 'title': 'Climate Change Strategy 2021- 2024', 'source': 'uploads/UKEF_Climate_Change_Strategy_2021pdf', 'total_pages': 26, 'page': 1, 'page_label': '2'} page_content='This year, the UK will host the UN Climate Change Conference (COP26) summit in Glasgow from 1-12 November.\n",
      "Implementing this strategy will enable us to improve appropriately and proportionately how we do this, taking account of both climate change-related risks and opportunitiesDecision Making20We will continue to take account of climate change in our decision-making relating to the support we provide to exporters' metadata={'producer': 'Microsoft® PowerPoint® for Microsoft 365', 'creator': 'Microsoft® PowerPoint® for Microsoft 365', 'creationdate': '2021-09-17T15:16:16+01:00', 'author': 'James Bailey', 'moddate': '2021-09-20T17:15:51+01:00', 'title': 'Climate Change Strategy 2021- 2024', 'source': 'uploads/UKEF_Climate_Change_Strategy_2021pdf', 'total_pages': 26, 'page': 19, 'page_label': '20'} page_content='EnablersChange ManagementWe will engage our staff in the implementation of this strategy, so that they are ready to implement the changes it will bring to our organisation and are empowered to adapt accordinglyDelivering our Climate Change Strategy will require the whole department's buy-in and a \"can-do\" culture throughoutImplementing the strategy will require delivering change and embedding new ways of working across the organisationWe will take further steps to embed climate change in our governance, decision making and learning and development of peopleDuring this strategic period, we will:• Implement an internal communications strategy to increase colleagues’ awareness of climate change issues and how we and the wider government is responding to them;• Work with colleagues across the department to embed a culture of climate change awareness in our staff, so they take account of climate change in all that we do;• Establish a Climate Change Forum, which will provide a space for our colleagues to hear from climate change experts, and learn about the climate-related work going on in all parts of the organisation;• Build underwriting capability and capacity in the renewables and transition sector, including clean growth Export Finance Manager roles 21' metadata={'producer': 'Microsoft® PowerPoint® for Microsoft 365', 'creator': 'Microsoft® PowerPoint® for Microsoft 365', 'creationdate': '2021-09-17T15:16:16+01:00', 'author': 'James Bailey', 'moddate': '2021-09-20T17:15:51+01:00', 'title': 'Climate Change Strategy 2021- 2024', 'source': 'uploads/UKEF_Climate_Change_Strategy_2021pdf', 'total_pages': 26, 'page': 20, 'page_label': '21'} page_content='EnablersDuring this strategic period, we will:• Develop a climate change learning and development plan, to ensure all colleagues have the knowledge and skills they need to integrate consideration of climate change in their roles;• Continue to encourage our colleagues to further develop their knowledge and understanding of climate change issues through ongoing training suitable for different levels of seniority;• Repeat annual staff engagement on climate change, to track colleagues' views on the topic and the related learning and development opportunities on offer to themWe are committed to providing climate change-related learning and development opportunities for our staff.\n"
     ]
    }
   ],
   "source": [
    "langch_sents = get_clean_eng_sents({'text':langch_whole}, EN_TOKENIZER)\n",
    "for sent in langch_sents:\n",
    "    if \"Implementing this strategy\" in sent:\n",
    "        print(sent)\n",
    "    if \"This new Climate Change Strategy lays out our ambitious\" in sent:\n",
    "        print(sent)"
   ]
  }
 ],
 "metadata": {
  "kernelspec": {
   "display_name": "Python 3",
   "language": "python",
   "name": "python3"
  },
  "language_info": {
   "codemirror_mode": {
    "name": "ipython",
    "version": 3
   },
   "file_extension": ".py",
   "mimetype": "text/x-python",
   "name": "python",
   "nbconvert_exporter": "python",
   "pygments_lexer": "ipython3",
   "version": "3.11.7"
  }
 },
 "nbformat": 4,
 "nbformat_minor": 2
}
